{
 "cells": [
  {
   "cell_type": "code",
   "execution_count": 57,
   "id": "1b1f93b8",
   "metadata": {},
   "outputs": [
    {
     "data": {
      "application/vnd.microsoft.datawrangler.viewer.v0+json": {
       "columns": [
        {
         "name": "index",
         "rawType": "int64",
         "type": "integer"
        },
        {
         "name": "timestamp",
         "rawType": "datetime64[ns, UTC]",
         "type": "unknown"
        },
        {
         "name": "MMSI",
         "rawType": "int64",
         "type": "integer"
        },
        {
         "name": "Destination",
         "rawType": "object",
         "type": "string"
        },
        {
         "name": "Dimension",
         "rawType": "object",
         "type": "unknown"
        },
        {
         "name": "Eta",
         "rawType": "object",
         "type": "unknown"
        },
        {
         "name": "Type",
         "rawType": "int64",
         "type": "integer"
        }
       ],
       "ref": "9e425eaf-a558-4147-8011-1eb109fff668",
       "rows": [
        [
         "289",
         "2025-06-19 07:34:44.967628467+00:00",
         "2249955",
         "",
         "{'A': 0, 'B': 0, 'C': 0, 'D': 0}",
         "{'Day': 0, 'Hour': 0, 'Minute': 0, 'Month': 0}",
         "99"
        ],
        [
         "160",
         "2025-06-19 07:34:37.533935342+00:00",
         "111224501",
         "",
         "{'A': 0, 'B': 0, 'C': 0, 'D': 0}",
         "{'Day': 0, 'Hour': 24, 'Minute': 60, 'Month': 0}",
         "51"
        ],
        [
         "383",
         "2025-06-19 07:34:48.772067177+00:00",
         "111232537",
         "",
         "{'A': 0, 'B': 0, 'C': 0, 'D': 0}",
         "{'Day': 0, 'Hour': 24, 'Minute': 60, 'Month': 0}",
         "51"
        ],
        [
         "335",
         "2025-06-19 07:34:47.020353291+00:00",
         "111244515",
         "",
         "{'A': 0, 'B': 0, 'C': 0, 'D': 0}",
         "{'Day': 0, 'Hour': 24, 'Minute': 60, 'Month': 0}",
         "0"
        ],
        [
         "1135",
         "2025-06-19 07:35:24.659942052+00:00",
         "203999303",
         "",
         "{'A': 12, 'B': 8, 'C': 5, 'D': 1}",
         "{'Day': 0, 'Hour': 24, 'Minute': 60, 'Month': 0}",
         "55"
        ],
        [
         "725",
         "2025-06-19 07:35:05.479284178+00:00",
         "203999389",
         "LINZ   ",
         "{'A': 18, 'B': 8, 'C': 4, 'D': 4}",
         "{'Day': 5, 'Hour': 10, 'Minute': 0, 'Month': 5}",
         "79"
        ],
        [
         "1195",
         "2025-06-19 07:35:28.105105927+00:00",
         "203999457",
         "LINZ                ",
         "{'A': 230, 'B': 37, 'C': 27, 'D': 28}",
         "{'Day': 17, 'Hour': 11, 'Minute': 0, 'Month': 5}",
         "52"
        ],
        [
         "226",
         "2025-06-19 07:34:40.846556066+00:00",
         "203999486",
         "FREUDENAU UW",
         "{'A': 29, 'B': 14, 'C': 2, 'D': 4}",
         "{'Day': 22, 'Hour': 16, 'Minute': 0, 'Month': 4}",
         "99"
        ],
        [
         "539",
         "2025-06-19 07:34:55.774102705+00:00",
         "204708000",
         "PTLEI",
         "{'A': 96, 'B': 4, 'C': 12, 'D': 6}",
         "{'Day': 18, 'Hour': 8, 'Minute': 30, 'Month': 6}",
         "70"
        ],
        [
         "1812",
         "2025-06-19 07:35:57.458455863+00:00",
         "205019000",
         "ZEEBRUGGE           ",
         "{'A': 14, 'B': 14, 'C': 13, 'D': 0}",
         "{'Day': 0, 'Hour': 24, 'Minute': 60, 'Month': 0}",
         "52"
        ],
        [
         "1310",
         "2025-06-19 07:35:34.085968821+00:00",
         "205023000",
         "PTSIE",
         "{'A': 90, 'B': 10, 'C': 8, 'D': 7}",
         "{'Day': 17, 'Hour': 8, 'Minute': 0, 'Month': 6}",
         "70"
        ],
        [
         "68",
         "2025-06-19 07:34:32.619130432+00:00",
         "205023000",
         "PTSIE",
         "{'A': 90, 'B': 10, 'C': 8, 'D': 7}",
         "{'Day': 17, 'Hour': 8, 'Minute': 0, 'Month': 6}",
         "70"
        ],
        [
         "1088",
         "2025-06-19 07:35:21.721440963+00:00",
         "205063000",
         "TERNEUZEN           ",
         "{'A': 12, 'B': 20, 'C': 4, 'D': 5}",
         "{'Day': 0, 'Hour': 24, 'Minute': 60, 'Month': 0}",
         "52"
        ],
        [
         "950",
         "2025-06-19 07:35:16.012250316+00:00",
         "205099000",
         "ANTWERPEN           ",
         "{'A': 25, 'B': 7, 'C': 6, 'D': 6}",
         "{'Day': 0, 'Hour': 24, 'Minute': 60, 'Month': 0}",
         "54"
        ],
        [
         "552",
         "2025-06-19 07:34:56.437618603+00:00",
         "205127000",
         "DOUARNENEZ",
         "{'A': 30, 'B': 8, 'C': 6, 'D': 3}",
         "{'Day': 30, 'Hour': 4, 'Minute': 30, 'Month': 5}",
         "30"
        ],
        [
         "1298",
         "2025-06-19 07:35:33.410789082+00:00",
         "205133000",
         "FISHINGGROUNDS",
         "{'A': 28, 'B': 10, 'C': 6, 'D': 2}",
         "{'Day': 0, 'Hour': 0, 'Minute': 0, 'Month': 0}",
         "30"
        ],
        [
         "1105",
         "2025-06-19 07:35:22.966125564+00:00",
         "205227000",
         "LA PALLICE          ",
         "{'A': 17, 'B': 7, 'C': 3, 'D': 3}",
         "{'Day': 0, 'Hour': 24, 'Minute': 60, 'Month': 0}",
         "30"
        ],
        [
         "1621",
         "2025-06-19 07:35:48.657529062+00:00",
         "205236790",
         "MERKSEM DOK",
         "{'A': 80, 'B': 0, 'C': 0, 'D': 9}",
         "{'Day': 19, 'Hour': 18, 'Minute': 0, 'Month': 6}",
         "79"
        ],
        [
         "286",
         "2025-06-19 07:34:44.899811399+00:00",
         "205238890",
         "",
         "{'A': 8, 'B': 15, 'C': 4, 'D': 3}",
         "{'Day': 0, 'Hour': 24, 'Minute': 60, 'Month': 0}",
         "69"
        ],
        [
         "250",
         "2025-06-19 07:34:42.727030431+00:00",
         "205239000",
         "SG PEBGA            ",
         "{'A': 183, 'B': 57, 'C': 25, 'D': 18}",
         "{'Day': 18, 'Hour': 21, 'Minute': 45, 'Month': 6}",
         "70"
        ],
        [
         "919",
         "2025-06-19 07:35:14.354480286+00:00",
         "205246090",
         "BRUG MERKSEM",
         "{'A': 106, 'B': 0, 'C': 5, 'D': 5}",
         "{'Day': 18, 'Hour': 8, 'Minute': 8, 'Month': 6}",
         "79"
        ],
        [
         "147",
         "2025-06-19 07:34:36.624515111+00:00",
         "205251000",
         "BEZEE]              ",
         "{'A': 60, 'B': 5, 'C': 3, 'D': 9}",
         "{'Day': 23, 'Hour': 22, 'Minute': 0, 'Month': 3}",
         "33"
        ],
        [
         "489",
         "2025-06-19 07:34:53.316404869+00:00",
         "205262090",
         "SPEYER  TANQUID",
         "{'A': 120, 'B': 15, 'C': 2, 'D': 10}",
         "{'Day': 22, 'Hour': 10, 'Minute': 25, 'Month': 6}",
         "89"
        ],
        [
         "1558",
         "2025-06-19 07:35:45.741319263+00:00",
         "205264000",
         "BRESKENS            ",
         "{'A': 18, 'B': 4, 'C': 3, 'D': 3}",
         "{'Day': 2, 'Hour': 17, 'Minute': 0, 'Month': 7}",
         "30"
        ],
        [
         "325",
         "2025-06-19 07:34:46.666023006+00:00",
         "205270690",
         "",
         "{'A': 32, 'B': 7, 'C': 4, 'D': 2}",
         "{'Day': 0, 'Hour': 24, 'Minute': 60, 'Month': 0}",
         "79"
        ],
        [
         "1395",
         "2025-06-19 07:35:38.058248361+00:00",
         "205293000",
         "OOSTENDE            ",
         "{'A': 17, 'B': 4, 'C': 1, 'D': 5}",
         "{'Day': 1, 'Hour': 12, 'Minute': 7, 'Month': 3}",
         "30"
        ],
        [
         "1505",
         "2025-06-19 07:35:42.983750842+00:00",
         "205314000",
         "",
         "{'A': 12, 'B': 13, 'C': 7, 'D': 6}",
         "{'Day': 0, 'Hour': 24, 'Minute': 60, 'Month': 0}",
         "52"
        ],
        [
         "1175",
         "2025-06-19 07:35:26.794610302+00:00",
         "205334690",
         "",
         "{'A': 43, 'B': 8, 'C': 5, 'D': 2}",
         "{'Day': 0, 'Hour': 0, 'Minute': 0, 'Month': 0}",
         "0"
        ],
        [
         "1250",
         "2025-06-19 07:35:30.905767216+00:00",
         "205381890",
         "                    ",
         "{'A': 100, 'B': 10, 'C': 4, 'D': 8}",
         "{'Day': 0, 'Hour': 0, 'Minute': 0, 'Month': 0}",
         "79"
        ],
        [
         "926",
         "2025-06-19 07:35:14.736440260+00:00",
         "205383490",
         "CHURCHILLDOK",
         "{'A': 98, 'B': 12, 'C': 4, 'D': 8}",
         "{'Day': 18, 'Hour': 10, 'Minute': 54, 'Month': 6}",
         "79"
        ],
        [
         "1197",
         "2025-06-19 07:35:28.132784865+00:00",
         "205388290",
         "ANTWERPEN           ",
         "{'A': 97, 'B': 13, 'C': 7, 'D': 5}",
         "{'Day': 10, 'Hour': 13, 'Minute': 15, 'Month': 12}",
         "70"
        ],
        [
         "1625",
         "2025-06-19 07:35:48.821998523+00:00",
         "205392290",
         "AFGEDAMDE MALLEGAT  ",
         "{'A': 116, 'B': 18, 'C': 2, 'D': 13}",
         "{'Day': 19, 'Hour': 13, 'Minute': 4, 'Month': 6}",
         "79"
        ],
        [
         "134",
         "2025-06-19 07:34:35.881522265+00:00",
         "205394990",
         "ANTWERPEN SCHELDE ST",
         "{'A': 98, 'B': 12, 'C': 8, 'D': 4}",
         "{'Day': 13, 'Hour': 17, 'Minute': 29, 'Month': 6}",
         "80"
        ],
        [
         "1678",
         "2025-06-19 07:35:51.441823915+00:00",
         "205410790",
         "KALLOSLUIS",
         "{'A': 64, 'B': 12, 'C': 3, 'D': 4}",
         "{'Day': 19, 'Hour': 9, 'Minute': 26, 'Month': 6}",
         "70"
        ],
        [
         "1806",
         "2025-06-19 07:35:56.774247948+00:00",
         "205412690",
         "BENDORF",
         "{'A': 135, 'B': 0, 'C': 6, 'D': 6}",
         "{'Day': 19, 'Hour': 18, 'Minute': 0, 'Month': 6}",
         "79"
        ],
        [
         "1737",
         "2025-06-19 07:35:53.609948232+00:00",
         "205417000",
         "HARBOUR TUG         ",
         "{'A': 8, 'B': 25, 'C': 5, 'D': 6}",
         "{'Day': 0, 'Hour': 24, 'Minute': 60, 'Month': 0}",
         "79"
        ],
        [
         "694",
         "2025-06-19 07:35:04.273990790+00:00",
         "205424190",
         "ANTWERPEN  KESSELSE",
         "{'A': 98, 'B': 12, 'C': 4, 'D': 7}",
         "{'Day': 31, 'Hour': 11, 'Minute': 0, 'Month': 12}",
         "79"
        ],
        [
         "1881",
         "2025-06-19 07:36:01.870267186+00:00",
         "205432590",
         "ZUILICHEM           ",
         "{'A': 60, 'B': 15, 'C': 5, 'D': 3}",
         "{'Day': 19, 'Hour': 12, 'Minute': 59, 'Month': 6}",
         "79"
        ],
        [
         "1046",
         "2025-06-19 07:35:20.165490163+00:00",
         "205452490",
         "BENDORF",
         "{'A': 50, 'B': 10, 'C': 2, 'D': 5}",
         "{'Day': 22, 'Hour': 14, 'Minute': 0, 'Month': 6}",
         "79"
        ],
        [
         "1873",
         "2025-06-19 07:36:01.550333902+00:00",
         "205468690",
         "",
         "{'A': 49, 'B': 8, 'C': 3, 'D': 5}",
         "{'Day': 0, 'Hour': 24, 'Minute': 60, 'Month': 0}",
         "79"
        ],
        [
         "870",
         "2025-06-19 07:35:12.230079706+00:00",
         "205468790",
         "JULIANAKANAAL       ",
         "{'A': 95, 'B': 15, 'C': 7, 'D': 3}",
         "{'Day': 18, 'Hour': 7, 'Minute': 6, 'Month': 6}",
         "79"
        ],
        [
         "670",
         "2025-06-19 07:35:03.333922194+00:00",
         "205469890",
         "LUDWIGSHAFEN        ",
         "{'A': 110, 'B': 0, 'C': 6, 'D': 5}",
         "{'Day': 21, 'Hour': 15, 'Minute': 49, 'Month': 6}",
         "79"
        ],
        [
         "20",
         "2025-06-19 07:34:30.204313310+00:00",
         "205514490",
         "ANTWERPEN 3E HAVENDO",
         "{'A': 53, 'B': 14, 'C': 3, 'D': 5}",
         "{'Day': 18, 'Hour': 8, 'Minute': 5, 'Month': 6}",
         "79"
        ],
        [
         "1778",
         "2025-06-19 07:35:55.748858963+00:00",
         "205528890",
         "SHELL GODORF        ",
         "{'A': 135, 'B': 0, 'C': 7, 'D': 8}",
         "{'Day': 18, 'Hour': 16, 'Minute': 2, 'Month': 6}",
         "89"
        ],
        [
         "1676",
         "2025-06-19 07:35:51.419580786+00:00",
         "205534190",
         "TERNEUZEN",
         "{'A': 69, 'B': 11, 'C': 3, 'D': 5}",
         "{'Day': 0, 'Hour': 24, 'Minute': 60, 'Month': 0}",
         "79"
        ],
        [
         "62",
         "2025-06-19 07:34:32.242247278+00:00",
         "205536690",
         "HARTELHAVEN",
         "{'A': 17, 'B': 2, 'C': 5, 'D': 7}",
         "{'Day': 19, 'Hour': 15, 'Minute': 0, 'Month': 5}",
         "99"
        ],
        [
         "921",
         "2025-06-19 07:35:14.376212896+00:00",
         "205543390",
         "382",
         "{'A': 96, 'B': 16, 'C': 26, 'D': 3}",
         "{'Day': 10, 'Hour': 4, 'Minute': 31, 'Month': 12}",
         "79"
        ],
        [
         "1568",
         "2025-06-19 07:35:46.083994187+00:00",
         "205554290",
         "OOSTENDE",
         "{'A': 5, 'B': 32, 'C': 3, 'D': 3}",
         "{'Day': 23, 'Hour': 0, 'Minute': 0, 'Month': 10}",
         "79"
        ],
        [
         "889",
         "2025-06-19 07:35:13.117106346+00:00",
         "205564590",
         "YUKONHAVEN@@@@@@@@  ",
         "{'A': 127, 'B': 8, 'C': 11, 'D': 13}",
         "{'Day': 19, 'Hour': 8, 'Minute': 26, 'Month': 6}",
         "80"
        ],
        [
         "1378",
         "2025-06-19 07:35:36.836108782+00:00",
         "205567290",
         "DORDRECHT",
         "{'A': 18, 'B': 4, 'C': 4, 'D': 1}",
         "{'Day': 0, 'Hour': 0, 'Minute': 0, 'Month': 0}",
         "79"
        ]
       ],
       "shape": {
        "columns": 6,
        "rows": 1951
       }
      },
      "text/html": [
       "<div>\n",
       "<style scoped>\n",
       "    .dataframe tbody tr th:only-of-type {\n",
       "        vertical-align: middle;\n",
       "    }\n",
       "\n",
       "    .dataframe tbody tr th {\n",
       "        vertical-align: top;\n",
       "    }\n",
       "\n",
       "    .dataframe thead th {\n",
       "        text-align: right;\n",
       "    }\n",
       "</style>\n",
       "<table border=\"1\" class=\"dataframe\">\n",
       "  <thead>\n",
       "    <tr style=\"text-align: right;\">\n",
       "      <th></th>\n",
       "      <th>timestamp</th>\n",
       "      <th>MMSI</th>\n",
       "      <th>Destination</th>\n",
       "      <th>Dimension</th>\n",
       "      <th>Eta</th>\n",
       "      <th>Type</th>\n",
       "    </tr>\n",
       "  </thead>\n",
       "  <tbody>\n",
       "    <tr>\n",
       "      <th>289</th>\n",
       "      <td>2025-06-19 07:34:44.967628467+00:00</td>\n",
       "      <td>2249955</td>\n",
       "      <td></td>\n",
       "      <td>{'A': 0, 'B': 0, 'C': 0, 'D': 0}</td>\n",
       "      <td>{'Day': 0, 'Hour': 0, 'Minute': 0, 'Month': 0}</td>\n",
       "      <td>99</td>\n",
       "    </tr>\n",
       "    <tr>\n",
       "      <th>160</th>\n",
       "      <td>2025-06-19 07:34:37.533935342+00:00</td>\n",
       "      <td>111224501</td>\n",
       "      <td></td>\n",
       "      <td>{'A': 0, 'B': 0, 'C': 0, 'D': 0}</td>\n",
       "      <td>{'Day': 0, 'Hour': 24, 'Minute': 60, 'Month': 0}</td>\n",
       "      <td>51</td>\n",
       "    </tr>\n",
       "    <tr>\n",
       "      <th>383</th>\n",
       "      <td>2025-06-19 07:34:48.772067177+00:00</td>\n",
       "      <td>111232537</td>\n",
       "      <td></td>\n",
       "      <td>{'A': 0, 'B': 0, 'C': 0, 'D': 0}</td>\n",
       "      <td>{'Day': 0, 'Hour': 24, 'Minute': 60, 'Month': 0}</td>\n",
       "      <td>51</td>\n",
       "    </tr>\n",
       "    <tr>\n",
       "      <th>335</th>\n",
       "      <td>2025-06-19 07:34:47.020353291+00:00</td>\n",
       "      <td>111244515</td>\n",
       "      <td></td>\n",
       "      <td>{'A': 0, 'B': 0, 'C': 0, 'D': 0}</td>\n",
       "      <td>{'Day': 0, 'Hour': 24, 'Minute': 60, 'Month': 0}</td>\n",
       "      <td>0</td>\n",
       "    </tr>\n",
       "    <tr>\n",
       "      <th>1135</th>\n",
       "      <td>2025-06-19 07:35:24.659942052+00:00</td>\n",
       "      <td>203999303</td>\n",
       "      <td></td>\n",
       "      <td>{'A': 12, 'B': 8, 'C': 5, 'D': 1}</td>\n",
       "      <td>{'Day': 0, 'Hour': 24, 'Minute': 60, 'Month': 0}</td>\n",
       "      <td>55</td>\n",
       "    </tr>\n",
       "    <tr>\n",
       "      <th>...</th>\n",
       "      <td>...</td>\n",
       "      <td>...</td>\n",
       "      <td>...</td>\n",
       "      <td>...</td>\n",
       "      <td>...</td>\n",
       "      <td>...</td>\n",
       "    </tr>\n",
       "    <tr>\n",
       "      <th>1199</th>\n",
       "      <td>2025-06-19 07:35:28.362551229+00:00</td>\n",
       "      <td>710999915</td>\n",
       "      <td></td>\n",
       "      <td>{'A': 0, 'B': 0, 'C': 0, 'D': 0}</td>\n",
       "      <td>{'Day': 1, 'Hour': 0, 'Minute': 0, 'Month': 1}</td>\n",
       "      <td>3</td>\n",
       "    </tr>\n",
       "    <tr>\n",
       "      <th>880</th>\n",
       "      <td>2025-06-19 07:35:12.477566121+00:00</td>\n",
       "      <td>730151081</td>\n",
       "      <td></td>\n",
       "      <td>{'A': 12, 'B': 18, 'C': 5, 'D': 5}</td>\n",
       "      <td>{'Day': 0, 'Hour': 24, 'Minute': 60, 'Month': 0}</td>\n",
       "      <td>52</td>\n",
       "    </tr>\n",
       "    <tr>\n",
       "      <th>60</th>\n",
       "      <td>2025-06-19 07:34:32.030481735+00:00</td>\n",
       "      <td>730151802</td>\n",
       "      <td>LA GLORIA</td>\n",
       "      <td>{'A': 15, 'B': 15, 'C': 6, 'D': 6}</td>\n",
       "      <td>{'Day': 2, 'Hour': 0, 'Minute': 0, 'Month': 9}</td>\n",
       "      <td>31</td>\n",
       "    </tr>\n",
       "    <tr>\n",
       "      <th>1811</th>\n",
       "      <td>2025-06-19 07:35:57.266158145+00:00</td>\n",
       "      <td>730153873</td>\n",
       "      <td>BARRANQUILLA</td>\n",
       "      <td>{'A': 7, 'B': 33, 'C': 5, 'D': 7}</td>\n",
       "      <td>{'Day': 10, 'Hour': 18, 'Minute': 0, 'Month': 9}</td>\n",
       "      <td>90</td>\n",
       "    </tr>\n",
       "    <tr>\n",
       "      <th>1073</th>\n",
       "      <td>2025-06-19 07:35:21.304862706+00:00</td>\n",
       "      <td>775994540</td>\n",
       "      <td>MATANZAS  MILLA  192</td>\n",
       "      <td>{'A': 10, 'B': 40, 'C': 25, 'D': 5}</td>\n",
       "      <td>{'Day': 0, 'Hour': 0, 'Minute': 0, 'Month': 0}</td>\n",
       "      <td>99</td>\n",
       "    </tr>\n",
       "  </tbody>\n",
       "</table>\n",
       "<p>1951 rows × 6 columns</p>\n",
       "</div>"
      ],
      "text/plain": [
       "                               timestamp       MMSI           Destination  \\\n",
       "289  2025-06-19 07:34:44.967628467+00:00    2249955                         \n",
       "160  2025-06-19 07:34:37.533935342+00:00  111224501                         \n",
       "383  2025-06-19 07:34:48.772067177+00:00  111232537                         \n",
       "335  2025-06-19 07:34:47.020353291+00:00  111244515                         \n",
       "1135 2025-06-19 07:35:24.659942052+00:00  203999303                         \n",
       "...                                  ...        ...                   ...   \n",
       "1199 2025-06-19 07:35:28.362551229+00:00  710999915                         \n",
       "880  2025-06-19 07:35:12.477566121+00:00  730151081                         \n",
       "60   2025-06-19 07:34:32.030481735+00:00  730151802             LA GLORIA   \n",
       "1811 2025-06-19 07:35:57.266158145+00:00  730153873  BARRANQUILLA           \n",
       "1073 2025-06-19 07:35:21.304862706+00:00  775994540  MATANZAS  MILLA  192   \n",
       "\n",
       "                                Dimension  \\\n",
       "289      {'A': 0, 'B': 0, 'C': 0, 'D': 0}   \n",
       "160      {'A': 0, 'B': 0, 'C': 0, 'D': 0}   \n",
       "383      {'A': 0, 'B': 0, 'C': 0, 'D': 0}   \n",
       "335      {'A': 0, 'B': 0, 'C': 0, 'D': 0}   \n",
       "1135    {'A': 12, 'B': 8, 'C': 5, 'D': 1}   \n",
       "...                                   ...   \n",
       "1199     {'A': 0, 'B': 0, 'C': 0, 'D': 0}   \n",
       "880    {'A': 12, 'B': 18, 'C': 5, 'D': 5}   \n",
       "60     {'A': 15, 'B': 15, 'C': 6, 'D': 6}   \n",
       "1811    {'A': 7, 'B': 33, 'C': 5, 'D': 7}   \n",
       "1073  {'A': 10, 'B': 40, 'C': 25, 'D': 5}   \n",
       "\n",
       "                                                   Eta  Type  \n",
       "289     {'Day': 0, 'Hour': 0, 'Minute': 0, 'Month': 0}    99  \n",
       "160   {'Day': 0, 'Hour': 24, 'Minute': 60, 'Month': 0}    51  \n",
       "383   {'Day': 0, 'Hour': 24, 'Minute': 60, 'Month': 0}    51  \n",
       "335   {'Day': 0, 'Hour': 24, 'Minute': 60, 'Month': 0}     0  \n",
       "1135  {'Day': 0, 'Hour': 24, 'Minute': 60, 'Month': 0}    55  \n",
       "...                                                ...   ...  \n",
       "1199    {'Day': 1, 'Hour': 0, 'Minute': 0, 'Month': 1}     3  \n",
       "880   {'Day': 0, 'Hour': 24, 'Minute': 60, 'Month': 0}    52  \n",
       "60      {'Day': 2, 'Hour': 0, 'Minute': 0, 'Month': 9}    31  \n",
       "1811  {'Day': 10, 'Hour': 18, 'Minute': 0, 'Month': 9}    90  \n",
       "1073    {'Day': 0, 'Hour': 0, 'Minute': 0, 'Month': 0}    99  \n",
       "\n",
       "[1951 rows x 6 columns]"
      ]
     },
     "execution_count": 57,
     "metadata": {},
     "output_type": "execute_result"
    }
   ],
   "source": [
    "import pandas as pd\n",
    "import json\n",
    "import plotly.express as px\n",
    "\n",
    "df_position = pd.read_json(\"data/raw/ais_position.json\")\n",
    "df_static = pd.read_json(\"data/raw/ais_static.json\")\n",
    "df_types = pd.read_csv(\"data/raw/ais_ShipTypes.csv\", sep=\";\")\n",
    "df_status = pd.read_csv(\"data/raw/ais_NavigationStatus.csv\", sep=\";\")\n",
    "\n",
    "df_static['timestamp'] = pd.to_datetime(df_static['timestamp'].str.replace('UTC', ''), format='ISO8601')\n",
    "df_static.sort_values('MMSI')"
   ]
  },
  {
   "cell_type": "code",
   "execution_count": 58,
   "id": "c8072cdc",
   "metadata": {},
   "outputs": [
    {
     "data": {
      "application/vnd.microsoft.datawrangler.viewer.v0+json": {
       "columns": [
        {
         "name": "index",
         "rawType": "int64",
         "type": "integer"
        },
        {
         "name": "timestamp_position",
         "rawType": "object",
         "type": "string"
        },
        {
         "name": "MMSI",
         "rawType": "int64",
         "type": "integer"
        },
        {
         "name": "ShipName",
         "rawType": "object",
         "type": "string"
        },
        {
         "name": "lat",
         "rawType": "float64",
         "type": "float"
        },
        {
         "name": "lon",
         "rawType": "float64",
         "type": "float"
        },
        {
         "name": "COG",
         "rawType": "float64",
         "type": "float"
        },
        {
         "name": "NavigationalStatus",
         "rawType": "int64",
         "type": "integer"
        },
        {
         "name": "RateOfTurn",
         "rawType": "int64",
         "type": "integer"
        },
        {
         "name": "SOG",
         "rawType": "float64",
         "type": "float"
        },
        {
         "name": "Spare",
         "rawType": "int64",
         "type": "integer"
        },
        {
         "name": "UserID",
         "rawType": "int64",
         "type": "integer"
        },
        {
         "name": "Status Description",
         "rawType": "object",
         "type": "string"
        },
        {
         "name": "timestamp_static",
         "rawType": "datetime64[ns, UTC]",
         "type": "unknown"
        },
        {
         "name": "Destination",
         "rawType": "object",
         "type": "unknown"
        },
        {
         "name": "Dimension",
         "rawType": "object",
         "type": "unknown"
        },
        {
         "name": "Eta",
         "rawType": "object",
         "type": "unknown"
        },
        {
         "name": "Type",
         "rawType": "float64",
         "type": "float"
        },
        {
         "name": "Type Description",
         "rawType": "object",
         "type": "unknown"
        },
        {
         "name": "Category",
         "rawType": "object",
         "type": "unknown"
        },
        {
         "name": "SubCategory",
         "rawType": "object",
         "type": "unknown"
        },
        {
         "name": "Length",
         "rawType": "float64",
         "type": "float"
        },
        {
         "name": "Width",
         "rawType": "float64",
         "type": "float"
        }
       ],
       "ref": "bab48148-da1c-4b68-954f-07f8c0425e51",
       "rows": [
        [
         "0",
         "2025-06-19 07:34:29.35955696 +0000 UTC",
         "247386800",
         "ML FREYJA",
         "48.36179666666667",
         "-6.203331666666667",
         "216.4",
         "0",
         "-8",
         "13.3",
         "0",
         "247386800",
         "Under way using engine",
         null,
         null,
         null,
         null,
         null,
         null,
         null,
         null,
         null,
         null
        ],
        [
         "1",
         "2025-06-19 07:34:29.36564606 +0000 UTC",
         "219499000",
         "TORM EVELYN",
         "49.94842333333334",
         "-4.134201666666667",
         "283.1",
         "0",
         "0",
         "7.9",
         "0",
         "219499000",
         "Under way using engine",
         null,
         null,
         null,
         null,
         null,
         null,
         null,
         null,
         null,
         null
        ],
        [
         "2",
         "2025-06-19 07:34:29.375062186 +0000 UTC",
         "232042335",
         "ERRINGTON",
         "51.493135",
         "-0.12235499999999999",
         "311.9",
         "15",
         "14",
         "0.0",
         "0",
         "232042335",
         "Not defined (default)",
         null,
         null,
         null,
         null,
         null,
         null,
         null,
         null,
         null,
         null
        ],
        [
         "3",
         "2025-06-19 07:34:29.377760254 +0000 UTC",
         "368052910",
         "LIL EMI",
         "29.468355",
         "-94.97223833333334",
         "95.5",
         "15",
         "-128",
         "0.0",
         "0",
         "368052910",
         "Not defined (default)",
         null,
         null,
         null,
         null,
         null,
         null,
         null,
         null,
         null,
         null
        ],
        [
         "4",
         "2025-06-19 07:34:29.385482459 +0000 UTC",
         "244620704",
         "LUTIN",
         "51.60111166666666",
         "3.971101666666666",
         "59.5",
         "0",
         "127",
         "7.8",
         "0",
         "244620704",
         "Under way using engine",
         null,
         null,
         null,
         null,
         null,
         null,
         null,
         null,
         null,
         null
        ],
        [
         "5",
         "2025-06-19 07:34:29.386798516 +0000 UTC",
         "255806168",
         "RIJN CONFIDENCE",
         "40.684684999999995",
         "-74.139595",
         "234.6",
         "5",
         "0",
         "0.0",
         "0",
         "255806168",
         "Moored",
         null,
         null,
         null,
         null,
         null,
         null,
         null,
         null,
         null,
         null
        ],
        [
         "6",
         "2025-06-19 07:34:29.392122282 +0000 UTC",
         "227561000",
         "F/V STERNE III",
         "49.01102166666667",
         "-6.684823333333333",
         "33.8",
         "0",
         "-128",
         "2.2",
         "0",
         "227561000",
         "Under way using engine",
         null,
         null,
         null,
         null,
         null,
         null,
         null,
         null,
         null,
         null
        ],
        [
         "7",
         "2025-06-19 07:34:29.394628956 +0000 UTC",
         "228396800",
         "F/V LES CHIGNOLLES",
         "47.346379999999996",
         "-2.51513",
         "186.3",
         "7",
         "0",
         "0.0",
         "0",
         "228396800",
         "Engaged in Fishing",
         null,
         null,
         null,
         null,
         null,
         null,
         null,
         null,
         null,
         null
        ],
        [
         "8",
         "2025-06-19 07:34:29.396256022 +0000 UTC",
         "368208250",
         "TOM CORNWELL",
         "29.95335833333333",
         "-90.03503",
         "8.4",
         "12",
         "0",
         "0.0",
         "0",
         "368208250",
         "Reserved for future use",
         "2025-06-19 07:34:52.004317772+00:00",
         "USMSY>USMOB>USMSY   ",
         "{'A': 192, 'B': 12, 'C': 10, 'D': 13}",
         "{'Day': 0, 'Hour': 24, 'Minute': 60, 'Month': 0}",
         "57.0",
         "Spare - Local Vessel",
         "Spare",
         null,
         "204.0",
         "23.0"
        ],
        [
         "9",
         "2025-06-19 07:34:29.409088831 +0000 UTC",
         "303466000",
         "SARAH AVRICK",
         "37.7923",
         "-122.37023333333333",
         "1.1",
         "0",
         "127",
         "7.6",
         "0",
         "303466000",
         "Under way using engine",
         null,
         null,
         null,
         null,
         null,
         null,
         null,
         null,
         null,
         null
        ],
        [
         "10",
         "2025-06-19 07:34:29.410717144 +0000 UTC",
         "538008103",
         "PROMETHEUS LIGHT",
         "43.602565",
         "37.046845",
         "350.0",
         "0",
         "3",
         "7.7",
         "0",
         "538008103",
         "Under way using engine",
         null,
         null,
         null,
         null,
         null,
         null,
         null,
         null,
         null,
         null
        ],
        [
         "11",
         "2025-06-19 07:34:29.41187278 +0000 UTC",
         "311000987",
         "BOREALIS",
         "38.06642333333333",
         "15.597856666666667",
         "6.8",
         "0",
         "0",
         "12.7",
         "0",
         "311000987",
         "Under way using engine",
         "2025-06-19 07:35:48.929981965+00:00",
         "ITMSN               ",
         "{'A': 70, 'B': 168, 'C': 18, 'D': 14}",
         "{'Day': 19, 'Hour': 8, 'Minute': 0, 'Month': 6}",
         "60.0",
         "Passenger, all ships of this type",
         "Passenger",
         " all ships of this type",
         "238.0",
         "32.0"
        ],
        [
         "12",
         "2025-06-19 07:34:29.426328041 +0000 UTC",
         "636021221",
         "PETROBRAS 78",
         "1.29484",
         "103.67955666666667",
         "345.0",
         "15",
         "0",
         "0.0",
         "0",
         "636021221",
         "Not defined (default)",
         null,
         null,
         null,
         null,
         null,
         null,
         null,
         null,
         null,
         null
        ],
        [
         "13",
         "2025-06-19 07:34:29.427508829 +0000 UTC",
         "368271280",
         "DB AVALON",
         "36.91261166666666",
         "-76.33067666666668",
         "289.6",
         "3",
         "0",
         "0.1",
         "0",
         "368271280",
         "Restricted manoeuverability",
         null,
         null,
         null,
         null,
         null,
         null,
         null,
         null,
         null,
         null
        ],
        [
         "14",
         "2025-06-19 07:34:29.43585275 +0000 UTC",
         "205572490",
         "AQUA JADE",
         "51.25162",
         "4.323530000000001",
         "104.0",
         "0",
         "127",
         "15.2",
         "0",
         "205572490",
         "Under way using engine",
         null,
         null,
         null,
         null,
         null,
         null,
         null,
         null,
         null,
         null
        ],
        [
         "15",
         "2025-06-19 07:34:29.463474983 +0000 UTC",
         "247488500",
         "GNV ORION",
         "41.966285",
         "10.195556666666667",
         "329.4",
         "0",
         "-7",
         "24.4",
         "0",
         "247488500",
         "Under way using engine",
         null,
         null,
         null,
         null,
         null,
         null,
         null,
         null,
         null,
         null
        ],
        [
         "16",
         "2025-06-19 07:34:29.466876055 +0000 UTC",
         "249436000",
         "CELANDINE",
         "51.45854166666666",
         "3.681368333333333",
         "56.1",
         "0",
         "0",
         "2.6",
         "0",
         "249436000",
         "Under way using engine",
         "2025-06-19 07:34:53.325220369+00:00",
         "NLVLI               ",
         "{'A': 22, 'B': 140, 'C': 11, 'D': 14}",
         "{'Day': 19, 'Hour': 8, 'Minute': 0, 'Month': 6}",
         "70.0",
         "Cargo, all ships of this type",
         "Cargo",
         " all ships of this type",
         "162.0",
         "25.0"
        ],
        [
         "17",
         "2025-06-19 07:34:29.469456379 +0000 UTC",
         "316022038",
         "OCEAN GORDON",
         "49.32539",
         "-123.21812166666668",
         "271.0",
         "15",
         "0",
         "6.7",
         "0",
         "316022038",
         "Not defined (default)",
         null,
         null,
         null,
         null,
         null,
         null,
         null,
         null,
         null,
         null
        ],
        [
         "18",
         "2025-06-19 07:34:29.474151209 +0000 UTC",
         "227321820",
         "F/V PIRANHA",
         "49.821940000000005",
         "0.014320000000000001",
         "334.8",
         "0",
         "-128",
         "6.5",
         "0",
         "227321820",
         "Under way using engine",
         null,
         null,
         null,
         null,
         null,
         null,
         null,
         null,
         null,
         null
        ],
        [
         "19",
         "2025-06-19 07:34:29.479108394 +0000 UTC",
         "241701000",
         "MARAN ORPHEUS",
         "40.932368333333336",
         "28.887521666666665",
         "245.3",
         "0",
         "0",
         "12.0",
         "0",
         "241701000",
         "Under way using engine",
         null,
         null,
         null,
         null,
         null,
         null,
         null,
         null,
         null,
         null
        ],
        [
         "20",
         "2025-06-19 07:34:29.487819766 +0000 UTC",
         "256100000",
         "ZALIV III",
         "37.87797166666667",
         "23.724713333333334",
         "240.6",
         "0",
         "9",
         "0.1",
         "0",
         "256100000",
         "Under way using engine",
         null,
         null,
         null,
         null,
         null,
         null,
         null,
         null,
         null,
         null
        ],
        [
         "21",
         "2025-06-19 07:34:29.495450957 +0000 UTC",
         "564221000",
         "MARINA AMBER",
         "1.276563333333333",
         "103.74607999999999",
         "156.0",
         "0",
         "-128",
         "7.6",
         "0",
         "564221000",
         "Under way using engine",
         null,
         null,
         null,
         null,
         null,
         null,
         null,
         null,
         null,
         null
        ],
        [
         "22",
         "2025-06-19 07:34:29.50110784 +0000 UTC",
         "235113732",
         "RNLI LIFEBOAT 13-24",
         "50.71707666666667",
         "-1.990896666666666",
         "201.3",
         "0",
         "-128",
         "1.7000000000000002",
         "0",
         "235113732",
         "Under way using engine",
         null,
         null,
         null,
         null,
         null,
         null,
         null,
         null,
         null,
         null
        ],
        [
         "23",
         "2025-06-19 07:34:29.504567597 +0000 UTC",
         "563209400",
         "FIRANDO",
         "41.10242166666667",
         "1.240201666666666",
         "139.5",
         "0",
         "0",
         "0.0",
         "0",
         "563209400",
         "Under way using engine",
         "2025-06-19 07:34:36.391655233+00:00",
         "ES TAR              ",
         "{'A': 199, 'B': 30, 'C': 21, 'D': 11}",
         "{'Day': 18, 'Hour': 18, 'Minute': 0, 'Month': 6}",
         "70.0",
         "Cargo, all ships of this type",
         "Cargo",
         " all ships of this type",
         "229.0",
         "32.0"
        ],
        [
         "24",
         "2025-06-19 07:34:29.516559245 +0000 UTC",
         "244660979",
         "ANNIE III",
         "51.53127333333334",
         "4.224118333333333",
         "360.0",
         "0",
         "-128",
         "0.0",
         "0",
         "244660979",
         "Under way using engine",
         null,
         null,
         null,
         null,
         null,
         null,
         null,
         null,
         null,
         null
        ],
        [
         "25",
         "2025-06-19 07:34:29.517794348 +0000 UTC",
         "271046765",
         "YAVUZ",
         "42.85820666666667",
         "31.29457",
         "221.9",
         "3",
         "1",
         "0.0",
         "0",
         "271046765",
         "Restricted manoeuverability",
         null,
         null,
         null,
         null,
         null,
         null,
         null,
         null,
         null,
         null
        ],
        [
         "26",
         "2025-06-19 07:34:29.520482357 +0000 UTC",
         "227005260",
         "VB OLERON",
         "46.16027999999999",
         "-1.223326666666666",
         "360.0",
         "0",
         "-128",
         "0.0",
         "0",
         "227005260",
         "Under way using engine",
         "2025-06-19 07:35:52.066629296+00:00",
         "                    ",
         "{'A': 15, 'B': 15, 'C': 1, 'D': 9}",
         "{'Day': 0, 'Hour': 0, 'Minute': 0, 'Month': 0}",
         "31.0",
         "Towing",
         "Towing",
         null,
         "30.0",
         "10.0"
        ],
        [
         "27",
         "2025-06-19 07:34:29.545775513 +0000 UTC",
         "565459000",
         "MARINE POWER",
         "1.283201666666666",
         "103.96701333333334",
         "47.5",
         "0",
         "-128",
         "0.1",
         "0",
         "565459000",
         "Under way using engine",
         null,
         null,
         null,
         null,
         null,
         null,
         null,
         null,
         null,
         null
        ],
        [
         "28",
         "2025-06-19 07:34:29.549936679 +0000 UTC",
         "319132600",
         "M'BRACE",
         "45.432066666666664",
         "12.350116666666667",
         "122.4",
         "0",
         "0",
         "0.2",
         "0",
         "319132600",
         "Under way using engine",
         null,
         null,
         null,
         null,
         null,
         null,
         null,
         null,
         null,
         null
        ],
        [
         "29",
         "2025-06-19 07:34:29.568740097 +0000 UTC",
         "366776910",
         "PT",
         "27.928571666666667",
         "-82.42699833333333",
         "242.3",
         "15",
         "-128",
         "0.0",
         "0",
         "366776910",
         "Not defined (default)",
         null,
         null,
         null,
         null,
         null,
         null,
         null,
         null,
         null,
         null
        ],
        [
         "30",
         "2025-06-19 07:34:29.573735734 +0000 UTC",
         "247323300",
         "MESSINA",
         "38.21633333333333",
         "15.632858333333333",
         "33.3",
         "5",
         "0",
         "0.0",
         "0",
         "247323300",
         "Moored",
         null,
         null,
         null,
         null,
         null,
         null,
         null,
         null,
         null,
         null
        ],
        [
         "31",
         "2025-06-19 07:34:29.585137604 +0000 UTC",
         "563202400",
         "X-PRESS AQUARIUS",
         "1.283015",
         "103.761735",
         "222.1",
         "5",
         "0",
         "0.0",
         "0",
         "563202400",
         "Moored",
         "2025-06-19 07:36:02.213530374+00:00",
         "SGSIN PWBGA         ",
         "{'A': 181, 'B': 18, 'C': 12, 'D': 23}",
         "{'Day': 19, 'Hour': 5, 'Minute': 0, 'Month': 6}",
         "70.0",
         "Cargo, all ships of this type",
         "Cargo",
         " all ships of this type",
         "199.0",
         "35.0"
        ],
        [
         "32",
         "2025-06-19 07:34:29.594326575 +0000 UTC",
         "636019207",
         "MSC JEWEL",
         "51.28866",
         "4.2541883333333335",
         "315.2",
         "5",
         "0",
         "0.0",
         "0",
         "636019207",
         "Moored",
         "2025-06-19 07:34:44.380437006+00:00",
         "BEANR WANDALAAR PLTS",
         "{'A': 113, 'B': 253, 'C': 14, 'D': 34}",
         "{'Day': 18, 'Hour': 1, 'Minute': 20, 'Month': 6}",
         "74.0",
         "Cargo, Hazardous category D",
         "Cargo",
         " Hazardous category D",
         "366.0",
         "48.0"
        ],
        [
         "33",
         "2025-06-19 07:34:29.597732414 +0000 UTC",
         "369465000",
         "FAST TEMPO",
         "47.635493333333336",
         "-122.329765",
         "0.0",
         "0",
         "53",
         "0.0",
         "0",
         "369465000",
         "Under way using engine",
         "2025-06-19 07:34:48.409084369+00:00",
         "BREMERTON           ",
         "{'A': 0, 'B': 0, 'C': 0, 'D': 0}",
         "{'Day': 0, 'Hour': 0, 'Minute': 0, 'Month': 0}",
         "90.0",
         "Other Type, all ships of this type",
         "Other",
         " all ships of this type",
         "0.0",
         "0.0"
        ],
        [
         "34",
         "2025-06-19 07:34:29.626704685 +0000 UTC",
         "367165430",
         "BRUCE A. MCALLISTER",
         "40.66014166666666",
         "-74.15158333333333",
         "307.0",
         "0",
         "0",
         "0.0",
         "0",
         "367165430",
         "Under way using engine",
         null,
         null,
         null,
         null,
         null,
         null,
         null,
         null,
         null,
         null
        ],
        [
         "35",
         "2025-06-19 07:34:29.627820202 +0000 UTC",
         "367186370",
         "HMS LIBERTY",
         "40.69571666666666",
         "-74.14574999999999",
         "236.3",
         "0",
         "0",
         "0.0",
         "0",
         "367186370",
         "Under way using engine",
         null,
         null,
         null,
         null,
         null,
         null,
         null,
         null,
         null,
         null
        ],
        [
         "36",
         "2025-06-19 07:34:29.639505548 +0000 UTC",
         "228808400",
         "VCSM ARGENS P608",
         "43.106874999999995",
         "5.886161666666666",
         "360.0",
         "0",
         "-128",
         "0.0",
         "0",
         "228808400",
         "Under way using engine",
         null,
         null,
         null,
         null,
         null,
         null,
         null,
         null,
         null,
         null
        ],
        [
         "37",
         "2025-06-19 07:34:29.642219929 +0000 UTC",
         "211552240",
         "PELIKAN",
         "49.13721833333333",
         "9.200363333333334",
         "360.0",
         "5",
         "0",
         "0.0",
         "0",
         "211552240",
         "Moored",
         null,
         null,
         null,
         null,
         null,
         null,
         null,
         null,
         null,
         null
        ],
        [
         "38",
         "2025-06-19 07:34:29.64739592 +0000 UTC",
         "319027500",
         "TALISMAN C",
         "37.406166666666664",
         "25.323500000000003",
         "30.0",
         "1",
         "-17",
         "0.2",
         "0",
         "319027500",
         "At anchor",
         null,
         null,
         null,
         null,
         null,
         null,
         null,
         null,
         null,
         null
        ],
        [
         "39",
         "2025-06-19 07:34:29.671551492 +0000 UTC",
         "352002997",
         "MAERSK MAMMOTH",
         "33.70535666666667",
         "-118.13375500000001",
         "200.3",
         "1",
         "7",
         "0.5",
         "0",
         "352002997",
         "At anchor",
         null,
         null,
         null,
         null,
         null,
         null,
         null,
         null,
         null,
         null
        ],
        [
         "40",
         "2025-06-19 07:34:29.691627372 +0000 UTC",
         "636021331",
         "ELIM BOUNCE",
         "41.34260833333334",
         "2.150664999999999",
         "165.1",
         "5",
         "0",
         "0.1",
         "0",
         "636021331",
         "Moored",
         null,
         null,
         null,
         null,
         null,
         null,
         null,
         null,
         null,
         null
        ],
        [
         "41",
         "2025-06-19 07:34:29.695774721 +0000 UTC",
         "327770011",
         "HAINA",
         "18.467951666666668",
         "-69.88401999999999",
         "283.4",
         "0",
         "0",
         "0.0",
         "0",
         "327770011",
         "Under way using engine",
         "2025-06-19 07:35:14.217955915+00:00",
         "SANTODOMINGO",
         "{'A': 10, 'B': 14, 'C': 5, 'D': 4}",
         "{'Day': 31, 'Hour': 20, 'Minute': 25, 'Month': 5}",
         "5.0",
         "Reserved for future use",
         "Not Used",
         null,
         "24.0",
         "9.0"
        ],
        [
         "42",
         "2025-06-19 07:34:29.702132528 +0000 UTC",
         "338096421",
         "SOUTHERN CROSS",
         "34.174330000000005",
         "-119.22749666666667",
         "215.2",
         "0",
         "0",
         "0.0",
         "0",
         "338096421",
         "Under way using engine",
         null,
         null,
         null,
         null,
         null,
         null,
         null,
         null,
         null,
         null
        ],
        [
         "43",
         "2025-06-19 07:34:29.703456573 +0000 UTC",
         "636092814",
         "COYHAIQUE",
         "28.46609",
         "-120.03724166666666",
         "125.7",
         "0",
         "0",
         "18.3",
         "0",
         "636092814",
         "Under way using engine",
         null,
         null,
         null,
         null,
         null,
         null,
         null,
         null,
         null,
         null
        ],
        [
         "44",
         "2025-06-19 07:34:29.714234858 +0000 UTC",
         "226019190",
         "CHARLOTTE",
         "49.107150000000004",
         "6.141724999999999",
         "26.4",
         "0",
         "-128",
         "4.5",
         "0",
         "226019190",
         "Under way using engine",
         null,
         null,
         null,
         null,
         null,
         null,
         null,
         null,
         null,
         null
        ],
        [
         "45",
         "2025-06-19 07:34:29.738770889 +0000 UTC",
         "565662000",
         "MARMORIS",
         "1.2977283333333332",
         "104.005825",
         "100.5",
         "1",
         "0",
         "4.8",
         "0",
         "565662000",
         "At anchor",
         null,
         null,
         null,
         null,
         null,
         null,
         null,
         null,
         null,
         null
        ],
        [
         "46",
         "2025-06-19 07:34:29.739330317 +0000 UTC",
         "235007200",
         "SONG OF THE WHALE",
         "42.60657666666667",
         "-70.66082",
         "360.0",
         "5",
         "-128",
         "0.0",
         "0",
         "235007200",
         "Moored",
         null,
         null,
         null,
         null,
         null,
         null,
         null,
         null,
         null,
         null
        ],
        [
         "47",
         "2025-06-19 07:34:29.759690623 +0000 UTC",
         "367551860",
         "JOCKA",
         "42.351013333333334",
         "-71.03738",
         "360.0",
         "4",
         "-128",
         "0.0",
         "0",
         "367551860",
         "Constrained by her draught",
         null,
         null,
         null,
         null,
         null,
         null,
         null,
         null,
         null,
         null
        ],
        [
         "48",
         "2025-06-19 07:34:29.769753885 +0000 UTC",
         "327801031",
         "PILOTO 5",
         "18.47158166666667",
         "-69.88081166666666",
         "299.4",
         "4",
         "-128",
         "0.1",
         "0",
         "327801031",
         "Constrained by her draught",
         null,
         null,
         null,
         null,
         null,
         null,
         null,
         null,
         null,
         null
        ],
        [
         "49",
         "2025-06-19 07:34:29.789184701 +0000 UTC",
         "244660094",
         "NITRICO 2",
         "51.266525",
         "4.372048333333334",
         "81.5",
         "0",
         "-128",
         "0.0",
         "0",
         "244660094",
         "Under way using engine",
         null,
         null,
         null,
         null,
         null,
         null,
         null,
         null,
         null,
         null
        ]
       ],
       "shape": {
        "columns": 22,
        "rows": 2510
       }
      },
      "text/html": [
       "<div>\n",
       "<style scoped>\n",
       "    .dataframe tbody tr th:only-of-type {\n",
       "        vertical-align: middle;\n",
       "    }\n",
       "\n",
       "    .dataframe tbody tr th {\n",
       "        vertical-align: top;\n",
       "    }\n",
       "\n",
       "    .dataframe thead th {\n",
       "        text-align: right;\n",
       "    }\n",
       "</style>\n",
       "<table border=\"1\" class=\"dataframe\">\n",
       "  <thead>\n",
       "    <tr style=\"text-align: right;\">\n",
       "      <th></th>\n",
       "      <th>timestamp_position</th>\n",
       "      <th>MMSI</th>\n",
       "      <th>ShipName</th>\n",
       "      <th>lat</th>\n",
       "      <th>lon</th>\n",
       "      <th>COG</th>\n",
       "      <th>NavigationalStatus</th>\n",
       "      <th>RateOfTurn</th>\n",
       "      <th>SOG</th>\n",
       "      <th>Spare</th>\n",
       "      <th>...</th>\n",
       "      <th>timestamp_static</th>\n",
       "      <th>Destination</th>\n",
       "      <th>Dimension</th>\n",
       "      <th>Eta</th>\n",
       "      <th>Type</th>\n",
       "      <th>Type Description</th>\n",
       "      <th>Category</th>\n",
       "      <th>SubCategory</th>\n",
       "      <th>Length</th>\n",
       "      <th>Width</th>\n",
       "    </tr>\n",
       "  </thead>\n",
       "  <tbody>\n",
       "    <tr>\n",
       "      <th>0</th>\n",
       "      <td>2025-06-19 07:34:29.35955696 +0000 UTC</td>\n",
       "      <td>247386800</td>\n",
       "      <td>ML FREYJA</td>\n",
       "      <td>48.361797</td>\n",
       "      <td>-6.203332</td>\n",
       "      <td>216.4</td>\n",
       "      <td>0</td>\n",
       "      <td>-8</td>\n",
       "      <td>13.3</td>\n",
       "      <td>0</td>\n",
       "      <td>...</td>\n",
       "      <td>NaT</td>\n",
       "      <td>NaN</td>\n",
       "      <td>NaN</td>\n",
       "      <td>NaN</td>\n",
       "      <td>NaN</td>\n",
       "      <td>NaN</td>\n",
       "      <td>NaN</td>\n",
       "      <td>NaN</td>\n",
       "      <td>NaN</td>\n",
       "      <td>NaN</td>\n",
       "    </tr>\n",
       "    <tr>\n",
       "      <th>1</th>\n",
       "      <td>2025-06-19 07:34:29.36564606 +0000 UTC</td>\n",
       "      <td>219499000</td>\n",
       "      <td>TORM EVELYN</td>\n",
       "      <td>49.948423</td>\n",
       "      <td>-4.134202</td>\n",
       "      <td>283.1</td>\n",
       "      <td>0</td>\n",
       "      <td>0</td>\n",
       "      <td>7.9</td>\n",
       "      <td>0</td>\n",
       "      <td>...</td>\n",
       "      <td>NaT</td>\n",
       "      <td>NaN</td>\n",
       "      <td>NaN</td>\n",
       "      <td>NaN</td>\n",
       "      <td>NaN</td>\n",
       "      <td>NaN</td>\n",
       "      <td>NaN</td>\n",
       "      <td>NaN</td>\n",
       "      <td>NaN</td>\n",
       "      <td>NaN</td>\n",
       "    </tr>\n",
       "    <tr>\n",
       "      <th>2</th>\n",
       "      <td>2025-06-19 07:34:29.375062186 +0000 UTC</td>\n",
       "      <td>232042335</td>\n",
       "      <td>ERRINGTON</td>\n",
       "      <td>51.493135</td>\n",
       "      <td>-0.122355</td>\n",
       "      <td>311.9</td>\n",
       "      <td>15</td>\n",
       "      <td>14</td>\n",
       "      <td>0.0</td>\n",
       "      <td>0</td>\n",
       "      <td>...</td>\n",
       "      <td>NaT</td>\n",
       "      <td>NaN</td>\n",
       "      <td>NaN</td>\n",
       "      <td>NaN</td>\n",
       "      <td>NaN</td>\n",
       "      <td>NaN</td>\n",
       "      <td>NaN</td>\n",
       "      <td>NaN</td>\n",
       "      <td>NaN</td>\n",
       "      <td>NaN</td>\n",
       "    </tr>\n",
       "    <tr>\n",
       "      <th>3</th>\n",
       "      <td>2025-06-19 07:34:29.377760254 +0000 UTC</td>\n",
       "      <td>368052910</td>\n",
       "      <td>LIL EMI</td>\n",
       "      <td>29.468355</td>\n",
       "      <td>-94.972238</td>\n",
       "      <td>95.5</td>\n",
       "      <td>15</td>\n",
       "      <td>-128</td>\n",
       "      <td>0.0</td>\n",
       "      <td>0</td>\n",
       "      <td>...</td>\n",
       "      <td>NaT</td>\n",
       "      <td>NaN</td>\n",
       "      <td>NaN</td>\n",
       "      <td>NaN</td>\n",
       "      <td>NaN</td>\n",
       "      <td>NaN</td>\n",
       "      <td>NaN</td>\n",
       "      <td>NaN</td>\n",
       "      <td>NaN</td>\n",
       "      <td>NaN</td>\n",
       "    </tr>\n",
       "    <tr>\n",
       "      <th>4</th>\n",
       "      <td>2025-06-19 07:34:29.385482459 +0000 UTC</td>\n",
       "      <td>244620704</td>\n",
       "      <td>LUTIN</td>\n",
       "      <td>51.601112</td>\n",
       "      <td>3.971102</td>\n",
       "      <td>59.5</td>\n",
       "      <td>0</td>\n",
       "      <td>127</td>\n",
       "      <td>7.8</td>\n",
       "      <td>0</td>\n",
       "      <td>...</td>\n",
       "      <td>NaT</td>\n",
       "      <td>NaN</td>\n",
       "      <td>NaN</td>\n",
       "      <td>NaN</td>\n",
       "      <td>NaN</td>\n",
       "      <td>NaN</td>\n",
       "      <td>NaN</td>\n",
       "      <td>NaN</td>\n",
       "      <td>NaN</td>\n",
       "      <td>NaN</td>\n",
       "    </tr>\n",
       "    <tr>\n",
       "      <th>...</th>\n",
       "      <td>...</td>\n",
       "      <td>...</td>\n",
       "      <td>...</td>\n",
       "      <td>...</td>\n",
       "      <td>...</td>\n",
       "      <td>...</td>\n",
       "      <td>...</td>\n",
       "      <td>...</td>\n",
       "      <td>...</td>\n",
       "      <td>...</td>\n",
       "      <td>...</td>\n",
       "      <td>...</td>\n",
       "      <td>...</td>\n",
       "      <td>...</td>\n",
       "      <td>...</td>\n",
       "      <td>...</td>\n",
       "      <td>...</td>\n",
       "      <td>...</td>\n",
       "      <td>...</td>\n",
       "      <td>...</td>\n",
       "      <td>...</td>\n",
       "    </tr>\n",
       "    <tr>\n",
       "      <th>2505</th>\n",
       "      <td>2025-06-19 07:34:49.140866035 +0000 UTC</td>\n",
       "      <td>246400000</td>\n",
       "      <td>ANCHORAGE</td>\n",
       "      <td>51.226658</td>\n",
       "      <td>2.933237</td>\n",
       "      <td>237.5</td>\n",
       "      <td>0</td>\n",
       "      <td>0</td>\n",
       "      <td>0.0</td>\n",
       "      <td>0</td>\n",
       "      <td>...</td>\n",
       "      <td>2025-06-19 07:34:29.356405375+00:00</td>\n",
       "      <td>BE OSTEND</td>\n",
       "      <td>{'A': 13, 'B': 93, 'C': 12, 'D': 4}</td>\n",
       "      <td>{'Day': 19, 'Hour': 6, 'Minute': 30, 'Month': 6}</td>\n",
       "      <td>33.0</td>\n",
       "      <td>Dredging or underwater ops</td>\n",
       "      <td>Dredging</td>\n",
       "      <td>NaN</td>\n",
       "      <td>106.0</td>\n",
       "      <td>16.0</td>\n",
       "    </tr>\n",
       "    <tr>\n",
       "      <th>2506</th>\n",
       "      <td>2025-06-19 07:34:49.146606673 +0000 UTC</td>\n",
       "      <td>367612050</td>\n",
       "      <td>BRANDY NICOLE</td>\n",
       "      <td>29.946733</td>\n",
       "      <td>-93.833025</td>\n",
       "      <td>360.0</td>\n",
       "      <td>0</td>\n",
       "      <td>-128</td>\n",
       "      <td>0.1</td>\n",
       "      <td>0</td>\n",
       "      <td>...</td>\n",
       "      <td>NaT</td>\n",
       "      <td>NaN</td>\n",
       "      <td>NaN</td>\n",
       "      <td>NaN</td>\n",
       "      <td>NaN</td>\n",
       "      <td>NaN</td>\n",
       "      <td>NaN</td>\n",
       "      <td>NaN</td>\n",
       "      <td>NaN</td>\n",
       "      <td>NaN</td>\n",
       "    </tr>\n",
       "    <tr>\n",
       "      <th>2507</th>\n",
       "      <td>2025-06-19 07:34:49.149349062 +0000 UTC</td>\n",
       "      <td>368217380</td>\n",
       "      <td>MFS SHIFTER</td>\n",
       "      <td>30.080498</td>\n",
       "      <td>-94.085287</td>\n",
       "      <td>75.5</td>\n",
       "      <td>15</td>\n",
       "      <td>-128</td>\n",
       "      <td>0.0</td>\n",
       "      <td>0</td>\n",
       "      <td>...</td>\n",
       "      <td>NaT</td>\n",
       "      <td>NaN</td>\n",
       "      <td>NaN</td>\n",
       "      <td>NaN</td>\n",
       "      <td>NaN</td>\n",
       "      <td>NaN</td>\n",
       "      <td>NaN</td>\n",
       "      <td>NaN</td>\n",
       "      <td>NaN</td>\n",
       "      <td>NaN</td>\n",
       "    </tr>\n",
       "    <tr>\n",
       "      <th>2508</th>\n",
       "      <td>2025-06-19 07:34:49.150656735 +0000 UTC</td>\n",
       "      <td>338768000</td>\n",
       "      <td>SWEENEY</td>\n",
       "      <td>29.993067</td>\n",
       "      <td>-93.909562</td>\n",
       "      <td>299.5</td>\n",
       "      <td>12</td>\n",
       "      <td>0</td>\n",
       "      <td>0.0</td>\n",
       "      <td>0</td>\n",
       "      <td>...</td>\n",
       "      <td>2025-06-19 07:35:39.589241884+00:00</td>\n",
       "      <td>TEXAS CITY</td>\n",
       "      <td>{'A': 104, 'B': 12, 'C': 9, 'D': 9}</td>\n",
       "      <td>{'Day': 18, 'Hour': 4, 'Minute': 0, 'Month': 1}</td>\n",
       "      <td>57.0</td>\n",
       "      <td>Spare - Local Vessel</td>\n",
       "      <td>Spare</td>\n",
       "      <td>NaN</td>\n",
       "      <td>116.0</td>\n",
       "      <td>18.0</td>\n",
       "    </tr>\n",
       "    <tr>\n",
       "      <th>2509</th>\n",
       "      <td>2025-06-19 07:34:49.151930959 +0000 UTC</td>\n",
       "      <td>368394280</td>\n",
       "      <td>CAPT.RONALD BOUDREAX</td>\n",
       "      <td>29.987130</td>\n",
       "      <td>-93.911030</td>\n",
       "      <td>280.1</td>\n",
       "      <td>12</td>\n",
       "      <td>0</td>\n",
       "      <td>7.7</td>\n",
       "      <td>0</td>\n",
       "      <td>...</td>\n",
       "      <td>NaT</td>\n",
       "      <td>NaN</td>\n",
       "      <td>NaN</td>\n",
       "      <td>NaN</td>\n",
       "      <td>NaN</td>\n",
       "      <td>NaN</td>\n",
       "      <td>NaN</td>\n",
       "      <td>NaN</td>\n",
       "      <td>NaN</td>\n",
       "      <td>NaN</td>\n",
       "    </tr>\n",
       "  </tbody>\n",
       "</table>\n",
       "<p>2510 rows × 22 columns</p>\n",
       "</div>"
      ],
      "text/plain": [
       "                           timestamp_position       MMSI  \\\n",
       "0      2025-06-19 07:34:29.35955696 +0000 UTC  247386800   \n",
       "1      2025-06-19 07:34:29.36564606 +0000 UTC  219499000   \n",
       "2     2025-06-19 07:34:29.375062186 +0000 UTC  232042335   \n",
       "3     2025-06-19 07:34:29.377760254 +0000 UTC  368052910   \n",
       "4     2025-06-19 07:34:29.385482459 +0000 UTC  244620704   \n",
       "...                                       ...        ...   \n",
       "2505  2025-06-19 07:34:49.140866035 +0000 UTC  246400000   \n",
       "2506  2025-06-19 07:34:49.146606673 +0000 UTC  367612050   \n",
       "2507  2025-06-19 07:34:49.149349062 +0000 UTC  368217380   \n",
       "2508  2025-06-19 07:34:49.150656735 +0000 UTC  338768000   \n",
       "2509  2025-06-19 07:34:49.151930959 +0000 UTC  368394280   \n",
       "\n",
       "                  ShipName        lat        lon    COG  NavigationalStatus  \\\n",
       "0                ML FREYJA  48.361797  -6.203332  216.4                   0   \n",
       "1              TORM EVELYN  49.948423  -4.134202  283.1                   0   \n",
       "2                ERRINGTON  51.493135  -0.122355  311.9                  15   \n",
       "3                  LIL EMI  29.468355 -94.972238   95.5                  15   \n",
       "4                    LUTIN  51.601112   3.971102   59.5                   0   \n",
       "...                    ...        ...        ...    ...                 ...   \n",
       "2505             ANCHORAGE  51.226658   2.933237  237.5                   0   \n",
       "2506         BRANDY NICOLE  29.946733 -93.833025  360.0                   0   \n",
       "2507           MFS SHIFTER  30.080498 -94.085287   75.5                  15   \n",
       "2508               SWEENEY  29.993067 -93.909562  299.5                  12   \n",
       "2509  CAPT.RONALD BOUDREAX  29.987130 -93.911030  280.1                  12   \n",
       "\n",
       "      RateOfTurn   SOG  Spare  ...                    timestamp_static  \\\n",
       "0             -8  13.3      0  ...                                 NaT   \n",
       "1              0   7.9      0  ...                                 NaT   \n",
       "2             14   0.0      0  ...                                 NaT   \n",
       "3           -128   0.0      0  ...                                 NaT   \n",
       "4            127   7.8      0  ...                                 NaT   \n",
       "...          ...   ...    ...  ...                                 ...   \n",
       "2505           0   0.0      0  ... 2025-06-19 07:34:29.356405375+00:00   \n",
       "2506        -128   0.1      0  ...                                 NaT   \n",
       "2507        -128   0.0      0  ...                                 NaT   \n",
       "2508           0   0.0      0  ... 2025-06-19 07:35:39.589241884+00:00   \n",
       "2509           0   7.7      0  ...                                 NaT   \n",
       "\n",
       "               Destination                            Dimension  \\\n",
       "0                      NaN                                  NaN   \n",
       "1                      NaN                                  NaN   \n",
       "2                      NaN                                  NaN   \n",
       "3                      NaN                                  NaN   \n",
       "4                      NaN                                  NaN   \n",
       "...                    ...                                  ...   \n",
       "2505  BE OSTEND             {'A': 13, 'B': 93, 'C': 12, 'D': 4}   \n",
       "2506                   NaN                                  NaN   \n",
       "2507                   NaN                                  NaN   \n",
       "2508  TEXAS CITY            {'A': 104, 'B': 12, 'C': 9, 'D': 9}   \n",
       "2509                   NaN                                  NaN   \n",
       "\n",
       "                                                   Eta  Type  \\\n",
       "0                                                  NaN   NaN   \n",
       "1                                                  NaN   NaN   \n",
       "2                                                  NaN   NaN   \n",
       "3                                                  NaN   NaN   \n",
       "4                                                  NaN   NaN   \n",
       "...                                                ...   ...   \n",
       "2505  {'Day': 19, 'Hour': 6, 'Minute': 30, 'Month': 6}  33.0   \n",
       "2506                                               NaN   NaN   \n",
       "2507                                               NaN   NaN   \n",
       "2508   {'Day': 18, 'Hour': 4, 'Minute': 0, 'Month': 1}  57.0   \n",
       "2509                                               NaN   NaN   \n",
       "\n",
       "                Type Description  Category SubCategory Length Width  \n",
       "0                            NaN       NaN         NaN    NaN   NaN  \n",
       "1                            NaN       NaN         NaN    NaN   NaN  \n",
       "2                            NaN       NaN         NaN    NaN   NaN  \n",
       "3                            NaN       NaN         NaN    NaN   NaN  \n",
       "4                            NaN       NaN         NaN    NaN   NaN  \n",
       "...                          ...       ...         ...    ...   ...  \n",
       "2505  Dredging or underwater ops  Dredging         NaN  106.0  16.0  \n",
       "2506                         NaN       NaN         NaN    NaN   NaN  \n",
       "2507                         NaN       NaN         NaN    NaN   NaN  \n",
       "2508        Spare - Local Vessel     Spare         NaN  116.0  18.0  \n",
       "2509                         NaN       NaN         NaN    NaN   NaN  \n",
       "\n",
       "[2510 rows x 22 columns]"
      ]
     },
     "execution_count": 58,
     "metadata": {},
     "output_type": "execute_result"
    }
   ],
   "source": [
    "# Keep LATEST MMSI static data\n",
    "df_static_latest = df_static.sort_values(\"timestamp\").drop_duplicates(\"MMSI\", keep=\"last\")\n",
    "# Add the Ship Type string\n",
    "df_static_latest = pd.merge(df_static_latest, df_types, on='Type', how='left')\n",
    "# Calculate Lenght and Width\n",
    "df_static_latest[\"Length\"] = df_static_latest[\"Dimension\"].apply(lambda x: x.get(\"A\", 0) + x.get(\"B\", 0))\n",
    "df_static_latest[\"Width\"] = df_static_latest[\"Dimension\"].apply(lambda x: x.get(\"C\", 0) + x.get(\"D\", 0))\n",
    "\n",
    "# Join Navigation Status to position\n",
    "df_position_final = pd.merge(df_position, df_status, on='NavigationalStatus', how='left')\n",
    "\n",
    "# final_df\n",
    "final_df = pd.merge(df_position_final, df_static_latest, on='MMSI', how='left', suffixes = ('_position', '_static'))\n",
    "final_df\n",
    "\n",
    "# QUESTION --> EST CE QUE JE GARDE TOUTES LES POISTIONS ? SI OUI AJOUTER UN POSITIONSTATUS : 1 = Latest, 0 = Old"
   ]
  },
  {
   "cell_type": "code",
   "execution_count": 59,
   "id": "2d18bab4",
   "metadata": {},
   "outputs": [
    {
     "data": {
      "application/vnd.plotly.v1+json": {
       "config": {
        "plotlyServerURL": "https://plot.ly"
       },
       "data": [
        {
         "hovertemplate": "lat=%{lat}<br>lon=%{lon}<br>NavigationalStatus=%{marker.color}<extra></extra>",
         "lat": {
          "bdata": "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",
          "dtype": "f8"
         },
         "legendgroup": "",
         "lon": {
          "bdata": "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",
          "dtype": "f8"
         },
         "marker": {
          "color": {
           "bdata": "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",
           "dtype": "i1"
          },
          "coloraxis": "coloraxis"
         },
         "mode": "markers",
         "name": "",
         "showlegend": false,
         "subplot": "map",
         "type": "scattermap"
        }
       ],
       "layout": {
        "coloraxis": {
         "colorbar": {
          "title": {
           "text": "NavigationalStatus"
          }
         },
         "colorscale": [
          [
           0,
           "#000000"
          ],
          [
           0.0625,
           "#001f4d"
          ],
          [
           0.125,
           "#003786"
          ],
          [
           0.1875,
           "#0e58a8"
          ],
          [
           0.25,
           "#217eb8"
          ],
          [
           0.3125,
           "#30a4ca"
          ],
          [
           0.375,
           "#54c8df"
          ],
          [
           0.4375,
           "#9be4ef"
          ],
          [
           0.5,
           "#e1e9d1"
          ],
          [
           0.5625,
           "#f3d573"
          ],
          [
           0.625,
           "#e7b000"
          ],
          [
           0.6875,
           "#da8200"
          ],
          [
           0.75,
           "#c65400"
          ],
          [
           0.8125,
           "#ac2301"
          ],
          [
           0.875,
           "#820000"
          ],
          [
           0.9375,
           "#4c0000"
          ],
          [
           1,
           "#000000"
          ]
         ]
        },
        "legend": {
         "tracegroupgap": 0
        },
        "map": {
         "center": {
          "lat": 38.05599412682603,
          "lon": -17.854740569721116
         },
         "domain": {
          "x": [
           0,
           1
          ],
          "y": [
           0,
           1
          ]
         },
         "zoom": 8
        },
        "mapbox": {
         "center": {
          "lat": 38.05599412682603,
          "lon": -17.854740569721116
         },
         "zoom": 8
        },
        "margin": {
         "t": 60
        },
        "template": {
         "data": {
          "bar": [
           {
            "error_x": {
             "color": "#2a3f5f"
            },
            "error_y": {
             "color": "#2a3f5f"
            },
            "marker": {
             "line": {
              "color": "#E5ECF6",
              "width": 0.5
             },
             "pattern": {
              "fillmode": "overlay",
              "size": 10,
              "solidity": 0.2
             }
            },
            "type": "bar"
           }
          ],
          "barpolar": [
           {
            "marker": {
             "line": {
              "color": "#E5ECF6",
              "width": 0.5
             },
             "pattern": {
              "fillmode": "overlay",
              "size": 10,
              "solidity": 0.2
             }
            },
            "type": "barpolar"
           }
          ],
          "carpet": [
           {
            "aaxis": {
             "endlinecolor": "#2a3f5f",
             "gridcolor": "white",
             "linecolor": "white",
             "minorgridcolor": "white",
             "startlinecolor": "#2a3f5f"
            },
            "baxis": {
             "endlinecolor": "#2a3f5f",
             "gridcolor": "white",
             "linecolor": "white",
             "minorgridcolor": "white",
             "startlinecolor": "#2a3f5f"
            },
            "type": "carpet"
           }
          ],
          "choropleth": [
           {
            "colorbar": {
             "outlinewidth": 0,
             "ticks": ""
            },
            "type": "choropleth"
           }
          ],
          "contour": [
           {
            "colorbar": {
             "outlinewidth": 0,
             "ticks": ""
            },
            "colorscale": [
             [
              0,
              "#0d0887"
             ],
             [
              0.1111111111111111,
              "#46039f"
             ],
             [
              0.2222222222222222,
              "#7201a8"
             ],
             [
              0.3333333333333333,
              "#9c179e"
             ],
             [
              0.4444444444444444,
              "#bd3786"
             ],
             [
              0.5555555555555556,
              "#d8576b"
             ],
             [
              0.6666666666666666,
              "#ed7953"
             ],
             [
              0.7777777777777778,
              "#fb9f3a"
             ],
             [
              0.8888888888888888,
              "#fdca26"
             ],
             [
              1,
              "#f0f921"
             ]
            ],
            "type": "contour"
           }
          ],
          "contourcarpet": [
           {
            "colorbar": {
             "outlinewidth": 0,
             "ticks": ""
            },
            "type": "contourcarpet"
           }
          ],
          "heatmap": [
           {
            "colorbar": {
             "outlinewidth": 0,
             "ticks": ""
            },
            "colorscale": [
             [
              0,
              "#0d0887"
             ],
             [
              0.1111111111111111,
              "#46039f"
             ],
             [
              0.2222222222222222,
              "#7201a8"
             ],
             [
              0.3333333333333333,
              "#9c179e"
             ],
             [
              0.4444444444444444,
              "#bd3786"
             ],
             [
              0.5555555555555556,
              "#d8576b"
             ],
             [
              0.6666666666666666,
              "#ed7953"
             ],
             [
              0.7777777777777778,
              "#fb9f3a"
             ],
             [
              0.8888888888888888,
              "#fdca26"
             ],
             [
              1,
              "#f0f921"
             ]
            ],
            "type": "heatmap"
           }
          ],
          "histogram": [
           {
            "marker": {
             "pattern": {
              "fillmode": "overlay",
              "size": 10,
              "solidity": 0.2
             }
            },
            "type": "histogram"
           }
          ],
          "histogram2d": [
           {
            "colorbar": {
             "outlinewidth": 0,
             "ticks": ""
            },
            "colorscale": [
             [
              0,
              "#0d0887"
             ],
             [
              0.1111111111111111,
              "#46039f"
             ],
             [
              0.2222222222222222,
              "#7201a8"
             ],
             [
              0.3333333333333333,
              "#9c179e"
             ],
             [
              0.4444444444444444,
              "#bd3786"
             ],
             [
              0.5555555555555556,
              "#d8576b"
             ],
             [
              0.6666666666666666,
              "#ed7953"
             ],
             [
              0.7777777777777778,
              "#fb9f3a"
             ],
             [
              0.8888888888888888,
              "#fdca26"
             ],
             [
              1,
              "#f0f921"
             ]
            ],
            "type": "histogram2d"
           }
          ],
          "histogram2dcontour": [
           {
            "colorbar": {
             "outlinewidth": 0,
             "ticks": ""
            },
            "colorscale": [
             [
              0,
              "#0d0887"
             ],
             [
              0.1111111111111111,
              "#46039f"
             ],
             [
              0.2222222222222222,
              "#7201a8"
             ],
             [
              0.3333333333333333,
              "#9c179e"
             ],
             [
              0.4444444444444444,
              "#bd3786"
             ],
             [
              0.5555555555555556,
              "#d8576b"
             ],
             [
              0.6666666666666666,
              "#ed7953"
             ],
             [
              0.7777777777777778,
              "#fb9f3a"
             ],
             [
              0.8888888888888888,
              "#fdca26"
             ],
             [
              1,
              "#f0f921"
             ]
            ],
            "type": "histogram2dcontour"
           }
          ],
          "mesh3d": [
           {
            "colorbar": {
             "outlinewidth": 0,
             "ticks": ""
            },
            "type": "mesh3d"
           }
          ],
          "parcoords": [
           {
            "line": {
             "colorbar": {
              "outlinewidth": 0,
              "ticks": ""
             }
            },
            "type": "parcoords"
           }
          ],
          "pie": [
           {
            "automargin": true,
            "type": "pie"
           }
          ],
          "scatter": [
           {
            "fillpattern": {
             "fillmode": "overlay",
             "size": 10,
             "solidity": 0.2
            },
            "type": "scatter"
           }
          ],
          "scatter3d": [
           {
            "line": {
             "colorbar": {
              "outlinewidth": 0,
              "ticks": ""
             }
            },
            "marker": {
             "colorbar": {
              "outlinewidth": 0,
              "ticks": ""
             }
            },
            "type": "scatter3d"
           }
          ],
          "scattercarpet": [
           {
            "marker": {
             "colorbar": {
              "outlinewidth": 0,
              "ticks": ""
             }
            },
            "type": "scattercarpet"
           }
          ],
          "scattergeo": [
           {
            "marker": {
             "colorbar": {
              "outlinewidth": 0,
              "ticks": ""
             }
            },
            "type": "scattergeo"
           }
          ],
          "scattergl": [
           {
            "marker": {
             "colorbar": {
              "outlinewidth": 0,
              "ticks": ""
             }
            },
            "type": "scattergl"
           }
          ],
          "scattermap": [
           {
            "marker": {
             "colorbar": {
              "outlinewidth": 0,
              "ticks": ""
             }
            },
            "type": "scattermap"
           }
          ],
          "scattermapbox": [
           {
            "marker": {
             "colorbar": {
              "outlinewidth": 0,
              "ticks": ""
             }
            },
            "type": "scattermapbox"
           }
          ],
          "scatterpolar": [
           {
            "marker": {
             "colorbar": {
              "outlinewidth": 0,
              "ticks": ""
             }
            },
            "type": "scatterpolar"
           }
          ],
          "scatterpolargl": [
           {
            "marker": {
             "colorbar": {
              "outlinewidth": 0,
              "ticks": ""
             }
            },
            "type": "scatterpolargl"
           }
          ],
          "scatterternary": [
           {
            "marker": {
             "colorbar": {
              "outlinewidth": 0,
              "ticks": ""
             }
            },
            "type": "scatterternary"
           }
          ],
          "surface": [
           {
            "colorbar": {
             "outlinewidth": 0,
             "ticks": ""
            },
            "colorscale": [
             [
              0,
              "#0d0887"
             ],
             [
              0.1111111111111111,
              "#46039f"
             ],
             [
              0.2222222222222222,
              "#7201a8"
             ],
             [
              0.3333333333333333,
              "#9c179e"
             ],
             [
              0.4444444444444444,
              "#bd3786"
             ],
             [
              0.5555555555555556,
              "#d8576b"
             ],
             [
              0.6666666666666666,
              "#ed7953"
             ],
             [
              0.7777777777777778,
              "#fb9f3a"
             ],
             [
              0.8888888888888888,
              "#fdca26"
             ],
             [
              1,
              "#f0f921"
             ]
            ],
            "type": "surface"
           }
          ],
          "table": [
           {
            "cells": {
             "fill": {
              "color": "#EBF0F8"
             },
             "line": {
              "color": "white"
             }
            },
            "header": {
             "fill": {
              "color": "#C8D4E3"
             },
             "line": {
              "color": "white"
             }
            },
            "type": "table"
           }
          ]
         },
         "layout": {
          "annotationdefaults": {
           "arrowcolor": "#2a3f5f",
           "arrowhead": 0,
           "arrowwidth": 1
          },
          "autotypenumbers": "strict",
          "coloraxis": {
           "colorbar": {
            "outlinewidth": 0,
            "ticks": ""
           }
          },
          "colorscale": {
           "diverging": [
            [
             0,
             "#8e0152"
            ],
            [
             0.1,
             "#c51b7d"
            ],
            [
             0.2,
             "#de77ae"
            ],
            [
             0.3,
             "#f1b6da"
            ],
            [
             0.4,
             "#fde0ef"
            ],
            [
             0.5,
             "#f7f7f7"
            ],
            [
             0.6,
             "#e6f5d0"
            ],
            [
             0.7,
             "#b8e186"
            ],
            [
             0.8,
             "#7fbc41"
            ],
            [
             0.9,
             "#4d9221"
            ],
            [
             1,
             "#276419"
            ]
           ],
           "sequential": [
            [
             0,
             "#0d0887"
            ],
            [
             0.1111111111111111,
             "#46039f"
            ],
            [
             0.2222222222222222,
             "#7201a8"
            ],
            [
             0.3333333333333333,
             "#9c179e"
            ],
            [
             0.4444444444444444,
             "#bd3786"
            ],
            [
             0.5555555555555556,
             "#d8576b"
            ],
            [
             0.6666666666666666,
             "#ed7953"
            ],
            [
             0.7777777777777778,
             "#fb9f3a"
            ],
            [
             0.8888888888888888,
             "#fdca26"
            ],
            [
             1,
             "#f0f921"
            ]
           ],
           "sequentialminus": [
            [
             0,
             "#0d0887"
            ],
            [
             0.1111111111111111,
             "#46039f"
            ],
            [
             0.2222222222222222,
             "#7201a8"
            ],
            [
             0.3333333333333333,
             "#9c179e"
            ],
            [
             0.4444444444444444,
             "#bd3786"
            ],
            [
             0.5555555555555556,
             "#d8576b"
            ],
            [
             0.6666666666666666,
             "#ed7953"
            ],
            [
             0.7777777777777778,
             "#fb9f3a"
            ],
            [
             0.8888888888888888,
             "#fdca26"
            ],
            [
             1,
             "#f0f921"
            ]
           ]
          },
          "colorway": [
           "#636efa",
           "#EF553B",
           "#00cc96",
           "#ab63fa",
           "#FFA15A",
           "#19d3f3",
           "#FF6692",
           "#B6E880",
           "#FF97FF",
           "#FECB52"
          ],
          "font": {
           "color": "#2a3f5f"
          },
          "geo": {
           "bgcolor": "white",
           "lakecolor": "white",
           "landcolor": "#E5ECF6",
           "showlakes": true,
           "showland": true,
           "subunitcolor": "white"
          },
          "hoverlabel": {
           "align": "left"
          },
          "hovermode": "closest",
          "mapbox": {
           "style": "light"
          },
          "paper_bgcolor": "white",
          "plot_bgcolor": "#E5ECF6",
          "polar": {
           "angularaxis": {
            "gridcolor": "white",
            "linecolor": "white",
            "ticks": ""
           },
           "bgcolor": "#E5ECF6",
           "radialaxis": {
            "gridcolor": "white",
            "linecolor": "white",
            "ticks": ""
           }
          },
          "scene": {
           "xaxis": {
            "backgroundcolor": "#E5ECF6",
            "gridcolor": "white",
            "gridwidth": 2,
            "linecolor": "white",
            "showbackground": true,
            "ticks": "",
            "zerolinecolor": "white"
           },
           "yaxis": {
            "backgroundcolor": "#E5ECF6",
            "gridcolor": "white",
            "gridwidth": 2,
            "linecolor": "white",
            "showbackground": true,
            "ticks": "",
            "zerolinecolor": "white"
           },
           "zaxis": {
            "backgroundcolor": "#E5ECF6",
            "gridcolor": "white",
            "gridwidth": 2,
            "linecolor": "white",
            "showbackground": true,
            "ticks": "",
            "zerolinecolor": "white"
           }
          },
          "shapedefaults": {
           "line": {
            "color": "#2a3f5f"
           }
          },
          "ternary": {
           "aaxis": {
            "gridcolor": "white",
            "linecolor": "white",
            "ticks": ""
           },
           "baxis": {
            "gridcolor": "white",
            "linecolor": "white",
            "ticks": ""
           },
           "bgcolor": "#E5ECF6",
           "caxis": {
            "gridcolor": "white",
            "linecolor": "white",
            "ticks": ""
           }
          },
          "title": {
           "x": 0.05
          },
          "xaxis": {
           "automargin": true,
           "gridcolor": "white",
           "linecolor": "white",
           "ticks": "",
           "title": {
            "standoff": 15
           },
           "zerolinecolor": "white",
           "zerolinewidth": 2
          },
          "yaxis": {
           "automargin": true,
           "gridcolor": "white",
           "linecolor": "white",
           "ticks": "",
           "title": {
            "standoff": 15
           },
           "zerolinecolor": "white",
           "zerolinewidth": 2
          }
         }
        }
       }
      }
     },
     "metadata": {},
     "output_type": "display_data"
    }
   ],
   "source": [
    "fig = px.scatter_map(final_df, lat=\"lat\", lon=\"lon\", color=\"NavigationalStatus\",\n",
    "                  color_continuous_scale=px.colors.cyclical.IceFire)\n",
    "\n",
    "fig.show()"
   ]
  }
 ],
 "metadata": {
  "kernelspec": {
   "display_name": ".venv",
   "language": "python",
   "name": "python3"
  },
  "language_info": {
   "codemirror_mode": {
    "name": "ipython",
    "version": 3
   },
   "file_extension": ".py",
   "mimetype": "text/x-python",
   "name": "python",
   "nbconvert_exporter": "python",
   "pygments_lexer": "ipython3",
   "version": "3.10.12"
  }
 },
 "nbformat": 4,
 "nbformat_minor": 5
}
